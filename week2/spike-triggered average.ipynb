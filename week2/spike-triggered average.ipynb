{
 "cells": [
  {
   "cell_type": "markdown",
   "metadata": {},
   "source": [
    "# $$ Assignments $$"
   ]
  },
  {
   "cell_type": "markdown",
   "metadata": {},
   "source": [
    "   In this quiz, you will take your first step into the process of encoding. The aim of this quiz is to help you come to a better understanding of how to calculate a spike-triggered average and its use in determining the relevant features within a stimulus. We have provided you with an experimentally recorded set of spikes recorded from the famous H1 motion-sensitive neuron of the fly (in this case, Calliphora vicina) from the lab of Dr Robert de Ruyter van Steveninck. This neuron responds to motion: your job is find out how exactly it processes a motion stimulus. You are also given the velocity of a pattern of vertical bars experienced by the fly during the recording of those spikes. Your job is to write a bit of Matlab/Octave/Python code to read the data and compute the spike-triggered average from methods you have learned throughout this week's lectures."
   ]
  },
  {
   "cell_type": "code",
   "execution_count": 58,
   "metadata": {
    "collapsed": false
   },
   "outputs": [
    {
     "name": "stdout",
     "output_type": "stream",
     "text": [
      "<type 'dict'>\n",
      "[0 0 0 ..., 0 0 0]\n",
      "[ 17  22  25  31  34  39  44  48  50  56  61  66  71  81 102 109 117 126]\n",
      "53583\n",
      "150\n",
      "[-298 -296 -294 -292 -290 -288 -286 -284 -282 -280 -278 -276 -274 -272 -270\n",
      " -268 -266 -264 -262 -260 -258 -256 -254 -252 -250 -248 -246 -244 -242 -240\n",
      " -238 -236 -234 -232 -230 -228 -226 -224 -222 -220 -218 -216 -214 -212 -210\n",
      " -208 -206 -204 -202 -200 -198 -196 -194 -192 -190 -188 -186 -184 -182 -180\n",
      " -178 -176 -174 -172 -170 -168 -166 -164 -162 -160 -158 -156 -154 -152 -150\n",
      " -148 -146 -144 -142 -140 -138 -136 -134 -132 -130 -128 -126 -124 -122 -120\n",
      " -118 -116 -114 -112 -110 -108 -106 -104 -102 -100  -98  -96  -94  -92  -90\n",
      "  -88  -86  -84  -82  -80  -78  -76  -74  -72  -70  -68  -66  -64  -62  -60\n",
      "  -58  -56  -54  -52  -50  -48  -46  -44  -42  -40  -38  -36  -34  -32  -30\n",
      "  -28  -26  -24  -22  -20  -18  -16  -14  -12  -10   -8   -6   -4   -2    0]\n"
     ]
    },
    {
     "data": {
      "image/png": "[encoded data removed]",
      "text/plain": [
       "<matplotlib.figure.Figure at 0x7771240>"
      ]
     },
     "metadata": {},
     "output_type": "display_data"
    }
   ],
   "source": [
    "\"\"\"\n",
    "Created on Wed Apr 22 15:21:11 2015\n",
    "\n",
    "@author: rkp\n",
    "\n",
    "Code to compute spike-triggered average.\n",
    "\"\"\"\n",
    "\n",
    "from __future__ import division\n",
    "import numpy as np\n",
    "import matplotlib.pyplot as plt\n",
    "%matplotlib inline\n",
    "\n",
    "def compute_sta(stim, rho, num_timesteps):\n",
    "    \"\"\"Compute the spike-triggered average from a stimulus and spike-train.\n",
    "    \n",
    "    Args:\n",
    "        stim: stimulus time-series\n",
    "        rho: spike-train time-series\n",
    "        num_timesteps: how many timesteps to use in STA\n",
    "        \n",
    "    Returns:\n",
    "        spike-triggered average for specified number of timesteps before spike\"\"\"\n",
    "    \n",
    "    sta = np.zeros((num_timesteps,))\n",
    "\n",
    "    # This command finds the indices of all of the spikes that occur\n",
    "    # after 300 ms into the recording.\n",
    "    spike_times = rho[num_timesteps:].nonzero()[0] + num_timesteps\n",
    "    qqq = rho[:num_timesteps]\n",
    "    print qqq.nonzero()[0]\n",
    "    # Fill in this value. Note that you should not count spikes that occur\n",
    "    # before 300 ms into the recording.\n",
    "    num_spikes = len(spike_times)\n",
    "    print num_spikes\n",
    "    \n",
    "    # Compute the spike-triggered average of the spikes found.\n",
    "    # To do this, compute the average of all of the vectors\n",
    "    # starting 300 ms (exclusive) before a spike and ending at the time of\n",
    "    # the event (inclusive). Each of these vectors defines a list of\n",
    "    # samples that is contained within a window of 300 ms before each\n",
    "    # spike. The average of these vectors should be completed in an\n",
    "    # element-wise manner.\n",
    "    # \n",
    "    # Your code goes here.\n",
    "    for i in range(1, num_spikes):\n",
    "        spike = spike_times[i]\n",
    "        sta = sta + stim[spike-num_timesteps:spike]\n",
    "    sta = sta / num_spikes\n",
    "    return sta\n",
    "\n",
    "\n",
    "\n",
    "\n",
    "\n",
    "\n",
    "\"\"\"\n",
    "Created on Wed Apr 22 15:15:16 2015\n",
    "\n",
    "@author: rkp\n",
    "\n",
    "Quiz 2 code.\n",
    "\"\"\"\n",
    "\n",
    "from __future__ import division\n",
    "import numpy as np\n",
    "import matplotlib.pyplot as plt\n",
    "\n",
    "import pickle\n",
    "\n",
    "\n",
    "\n",
    "FILENAME = 'c1p8.pickle'\n",
    "\n",
    "with open(FILENAME, 'rb') as f:\n",
    "    data = pickle.load(f)\n",
    "print type(data)    \n",
    "stim = data['stim']\n",
    "rho = data['rho']\n",
    "print rho\n",
    "# Fill in these values\n",
    "sampling_period = 2 # in ms\n",
    "num_timesteps = 150\n",
    "\n",
    "sta = compute_sta(stim, rho, num_timesteps)\n",
    "print len(sta)\n",
    "time = (np.arange(-num_timesteps, 0) + 1) * sampling_period\n",
    "print time\n",
    "plt.plot(time, sta)\n",
    "plt.xlabel('Time (ms)')\n",
    "plt.ylabel('Stimulus')\n",
    "plt.title('Spike-Triggered Average')\n",
    "plt.show()"
   ]
  },
  {
   "cell_type": "code",
   "execution_count": 47,
   "metadata": {
    "collapsed": false
   },
   "outputs": [
    {
     "name": "stdout",
     "output_type": "stream",
     "text": [
      "[     0      1      2 ..., 599997 599998 599999]\n"
     ]
    }
   ],
   "source": [
    "time_series = np.arange(0,len(rho))\n",
    "print time_series"
   ]
  },
  {
   "cell_type": "code",
   "execution_count": null,
   "metadata": {
    "collapsed": true
   },
   "outputs": [],
   "source": []
  }
 ],
 "metadata": {
  "kernelspec": {
   "display_name": "Python [Root]",
   "language": "python",
   "name": "Python [Root]"
  },
  "language_info": {
   "codemirror_mode": {
    "name": "ipython",
    "version": 2
   },
   "file_extension": ".py",
   "mimetype": "text/x-python",
   "name": "python",
   "nbconvert_exporter": "python",
   "pygments_lexer": "ipython2",
   "version": "2.7.12"
  }
 },
 "nbformat": 4,
 "nbformat_minor": 0
}
